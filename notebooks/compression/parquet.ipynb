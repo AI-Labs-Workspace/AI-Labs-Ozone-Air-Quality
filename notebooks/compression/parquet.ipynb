{
 "cells": [
  {
   "cell_type": "code",
   "execution_count": 1,
   "id": "e2107d42",
   "metadata": {},
   "outputs": [
    {
     "name": "stdout",
     "output_type": "stream",
     "text": [
      "  State Code County Code Site Num Parameter Code  POC   Latitude  Longitude  \\\n",
      "0         01         003     0010          44201    1  30.497478 -87.880258   \n",
      "1         01         003     0010          44201    1  30.497478 -87.880258   \n",
      "2         01         003     0010          44201    1  30.497478 -87.880258   \n",
      "3         01         003     0010          44201    1  30.497478 -87.880258   \n",
      "4         01         003     0010          44201    1  30.497478 -87.880258   \n",
      "\n",
      "   Datum Parameter Name  Date Local  ...   Units of Measure    MDL  \\\n",
      "0  NAD83          Ozone  2014-03-01  ...  Parts per million  0.005   \n",
      "1  NAD83          Ozone  2014-03-01  ...  Parts per million  0.005   \n",
      "2  NAD83          Ozone  2014-03-01  ...  Parts per million  0.005   \n",
      "3  NAD83          Ozone  2014-03-01  ...  Parts per million  0.005   \n",
      "4  NAD83          Ozone  2014-03-01  ...  Parts per million  0.005   \n",
      "\n",
      "  Uncertainty  Qualifier Method Type  Method Code  \\\n",
      "0         NaN       None         FEM           47   \n",
      "1         NaN       None         FEM           47   \n",
      "2         NaN       None         FEM           47   \n",
      "3         NaN       None         FEM           47   \n",
      "4         NaN       None         FEM           47   \n",
      "\n",
      "                   Method Name State Name County Name  Date of Last Change  \n",
      "0  INSTRUMENTAL - ULTRA VIOLET    Alabama     Baldwin           2014-06-30  \n",
      "1  INSTRUMENTAL - ULTRA VIOLET    Alabama     Baldwin           2014-06-30  \n",
      "2  INSTRUMENTAL - ULTRA VIOLET    Alabama     Baldwin           2014-06-30  \n",
      "3  INSTRUMENTAL - ULTRA VIOLET    Alabama     Baldwin           2014-06-30  \n",
      "4  INSTRUMENTAL - ULTRA VIOLET    Alabama     Baldwin           2014-06-30  \n",
      "\n",
      "[5 rows x 24 columns]\n"
     ]
    }
   ],
   "source": [
    "import python_utils.common_utils as cu\n",
    "\n",
    "\n",
    "def parquet_conversion(csv_path, parquet_path):    \n",
    "    d_type = {'State Code':str, 'County Code':str, 'Site Num':str, 'Parameter Code':str, 'POC':int,\n",
    "       'Latitude':float, 'Longitude':float, 'Datum':str, 'Parameter Name':str, 'Date Local':str,\n",
    "       'Time Local':str, 'Date GMT':str, 'Time GMT':str, 'Sample Measurement':float,\n",
    "       'Units of Measure':str, 'MDL':float, 'Uncertainty':float, 'Qualifier':str, 'Method Type':str,\n",
    "       'Method Code':int, 'Method Name':str, 'State Name':str, 'County Name':str,'Date of Last Change':str}\n",
    "    df_csv = cu.load_df('csv', csv_path, d_type=d_type)\n",
    "    \n",
    "    cu.save_df(df_csv, 'parquet', parquet_path)\n",
    "    df_parquet =  cu.load_df('parquet', parquet_path)\n",
    "    print(df_parquet.head())\n",
    "\n",
    "\n",
    "base_path = \"../../dataset/raw/ozone_hourly_2014\"\n",
    "csv_path = base_path + \".csv\"\n",
    "parquet_path = base_path + \".parquet\"    \n",
    "parquet_conversion(csv_path, parquet_path)"
   ]
  },
  {
   "cell_type": "code",
   "execution_count": 11,
   "id": "46d952ba",
   "metadata": {},
   "outputs": [
    {
     "name": "stdout",
     "output_type": "stream",
     "text": [
      "CSV = 2132.85 MB \n",
      "Parquet = 122.54 MB\n",
      "Compression percentage is 94.25%\n"
     ]
    }
   ],
   "source": [
    "import os\n",
    "import python_utils.common_utils as cu\n",
    "\n",
    "\n",
    "def compare_file_size(csv_path, parquet_path):\n",
    "    byte_to_mb = 1/(10**6)\n",
    "    csv_size = round(os.path.getsize(csv_path)*byte_to_mb, 2)\n",
    "    parquet_size = round(os.path.getsize(parquet_path)*byte_to_mb, 2)\n",
    "    \n",
    "    print(f\"CSV = {csv_size} MB \\nParquet = {parquet_size} MB\")    \n",
    "    compression_perc = round(((csv_size-parquet_size)/csv_size)*100, 2)\n",
    "    print(f\"Compression percentage is {compression_perc}%\")\n",
    "\n",
    "\n",
    "base_path = \"../../dataset/raw/ozone_hourly_2014\"\n",
    "csv_path = base_path + \".csv\"\n",
    "parquet_path = base_path + \".parquet\"    \n",
    "compare_file_size(csv_path, parquet_path)"
   ]
  },
  {
   "cell_type": "code",
   "execution_count": null,
   "id": "2deea4e5",
   "metadata": {},
   "outputs": [],
   "source": []
  }
 ],
 "metadata": {
  "kernelspec": {
   "display_name": "Python 3 (ipykernel)",
   "language": "python",
   "name": "python3"
  },
  "language_info": {
   "codemirror_mode": {
    "name": "ipython",
    "version": 3
   },
   "file_extension": ".py",
   "mimetype": "text/x-python",
   "name": "python",
   "nbconvert_exporter": "python",
   "pygments_lexer": "ipython3",
   "version": "3.10.9"
  }
 },
 "nbformat": 4,
 "nbformat_minor": 5
}
