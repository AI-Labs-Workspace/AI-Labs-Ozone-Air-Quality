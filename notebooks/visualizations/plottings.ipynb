{
 "cells": [
  {
   "cell_type": "markdown",
   "id": "cd5d244e",
   "metadata": {},
   "source": [
    "<span style=\"font-family:Lucida Sans Unicode; color:#a10a0a; font-size: 25px\"> Import Libraries </span>"
   ]
  },
  {
   "cell_type": "code",
   "execution_count": 1,
   "id": "df25b27f",
   "metadata": {},
   "outputs": [],
   "source": [
    "import matplotlib.pyplot as plt\n",
    "import seaborn as sb\n",
    "import missingno as msn\n"
   ]
  },
  {
   "cell_type": "markdown",
   "id": "8dc60b0f",
   "metadata": {},
   "source": [
    "<span style=\"font-family:Lucida Sans Unicode; color:#a10a0a; font-size: 25px\"> Distribution Plot </span>"
   ]
  },
  {
   "cell_type": "code",
   "execution_count": 3,
   "id": "ebbd6cfd",
   "metadata": {},
   "outputs": [],
   "source": [
    "def plot_dist(df, labels=[\"Distribution Plot\", \"xlabel\", \"ylabel\"], figsize=(12, 8), hist=True, \n",
    "              title_fontsize=16, label_fontsize=12):\n",
    "    text = labels[0]\n",
    "    x_label = labels[1]\n",
    "    y_label = labels[2]\n",
    "\n",
    "    try:\n",
    "        plt.figure(figsize=figsize)\n",
    "        \n",
    "        if hist:\n",
    "            sb.distplot(df, hist=True, color='#007a21')\n",
    "            \n",
    "        else:\n",
    "            sb.distplot(df, color='#007a21')\n",
    "\n",
    "    except Exception as exc:\n",
    "        print(\"! \", exc)\n",
    "\n",
    "    else:\n",
    "        plt.title(text, fontsize=title_fontsize, fontweight='bold', family='monospace')\n",
    "        plt.xlabel(x_label, fontsize=label_fontsize, fontweight='bold', family='monospace')\n",
    "        plt.ylabel(y_label, fontsize=label_fontsize, fontweight='bold', family='monospace')\n",
    "        plt.grid()\n",
    "        plt.show()\n",
    "\n"
   ]
  },
  {
   "cell_type": "markdown",
   "id": "a7170e30",
   "metadata": {},
   "source": [
    "<span style=\"font-family:Lucida Sans Unicode; color:#a10a0a; font-size: 25px\"> Histogram Plot </span>"
   ]
  },
  {
   "cell_type": "code",
   "execution_count": 12,
   "id": "2f8ed1b7",
   "metadata": {},
   "outputs": [],
   "source": [
    "def plot_hist(df, bins=15, labels=['Histogram','xlabel','ylabel'], figsize=(13, 10), linewidth=1.2):\n",
    "    title = labels[0]\n",
    "    xlabel = labels[1]\n",
    "    ylabel = labels[2]\n",
    "    \n",
    "    try:\n",
    "        plt.figure(figsize=figsize)\n",
    "        plt.hist(df, bins=bins, linewidth=linewidth)\n",
    "        \n",
    "    except Exception as e:\n",
    "        print(f\"Exception: {e}\")\n",
    "    \n",
    "    else:\n",
    "        plt.title(title, fontsize=16, fontweight='bold', family='monospace')\n",
    "        plt.xlabel(xlabel, fontsize=12, fontweight='bold', family='monospace')\n",
    "        plt.ylabel(ylabel, fontsize=12, fontweight='bold', family='monospace')\n",
    "        plt.grid()\n",
    "        plt.show()\n"
   ]
  },
  {
   "cell_type": "markdown",
   "id": "fd297f84",
   "metadata": {},
   "source": [
    "<span style=\"font-family:Lucida Sans Unicode; color:#a10a0a; font-size: 25px\"> Missingno Matrix </span>"
   ]
  },
  {
   "cell_type": "code",
   "execution_count": 8,
   "id": "de4de32d",
   "metadata": {},
   "outputs": [],
   "source": [
    "def plot_missing_no(df, title=\"Missingno Matrix\", figsize=[13, 8], plot_fontsize=12, \n",
    "                    title_fontsize=15, color=(0.72, 0.18, 0.29)):\n",
    "    try:\n",
    "        msn.matrix(df, color=color, figsize=figsize, fontsize=plot_fontsize)\n",
    "        \n",
    "    except Exception as e:\n",
    "        print(f\"Exception: {e}\")\n",
    "    \n",
    "    finally:\n",
    "        plt.title(title, fontsize=title_fontsize, fontweight='bold', family='monospace')\n",
    "        plt.show()\n",
    "    "
   ]
  },
  {
   "cell_type": "markdown",
   "id": "6db1d449",
   "metadata": {},
   "source": [
    "<span style=\"font-family:Lucida Sans Unicode; color:#a10a0a; font-size: 25px\"> Boxplot </span>"
   ]
  },
  {
   "cell_type": "code",
   "execution_count": null,
   "id": "fefd4844",
   "metadata": {},
   "outputs": [],
   "source": [
    "def plot_boxplot(df, labels, figsize=(11, 10), label_fontsize=14, title_fontsize=17):\n",
    "    title = labels[0]\n",
    "    xlabel = labels[1]\n",
    "    ylabel = labels[2]\n",
    "    \n",
    "    try:\n",
    "        plt.figure(figsize=figsize)\n",
    "        sb.boxplot(df)\n",
    "        \n",
    "    except Exception as e:\n",
    "        print(f\"Exception: {e}\")\n",
    "    \n",
    "    finally:   \n",
    "        plt.title(title, fontsize=title_fontsize, fontweight='bold', family='monospace')\n",
    "        plt.xlabel(xlabel, size=label_fontsize, family='monospace')\n",
    "        plt.ylabel(ylabel, size=label_fontsize, family='monospace')\n",
    "        plt.grid()\n",
    "        plt.show()\n",
    "\n"
   ]
  },
  {
   "cell_type": "markdown",
   "id": "ea214718",
   "metadata": {},
   "source": [
    "<span style=\"font-family:Lucida Sans Unicode; color:#a10a0a; font-size: 25px\"> Pie plot </span>"
   ]
  },
  {
   "cell_type": "code",
   "execution_count": 4,
   "id": "6774f1a0",
   "metadata": {},
   "outputs": [],
   "source": [
    "def plot_pie(df, graph_labels, labels=False, explode=False, title=\"Pie Chart\", figsize=(12, 8), autopct='%1.1f%%', shadow=True, \n",
    "             legend_fontsize=14, title_fontsize=17):\n",
    "    \n",
    "    try:\n",
    "        plt.figure(figsize=figsize)\n",
    "        if explode:\n",
    "            plt.pie(df, explode=explode, labels=graph_labels, autopct=autopct, shadow=shadow)\n",
    "            \n",
    "        else:\n",
    "            plt.pie(df, labels=graph_labels, autopct=autopct, shadow=shadow)\n",
    "            \n",
    "        plt.title(title, fontsize=title_fontsize, fontweight='bold', family='monospace')\n",
    "        plt.axis('equal')  # Ensures the pie chart is circular\n",
    "        \n",
    "        if labels:\n",
    "            plt.legend(labels, fontsize=legend_fontsize, loc=\"upper right\")\n",
    "        \n",
    "        plt.show()\n",
    "    except Exception as e:\n",
    "        print(f\"Exception: {e}\")\n"
   ]
  },
  {
   "cell_type": "markdown",
   "id": "03c3a69c",
   "metadata": {},
   "source": [
    "<span style=\"font-family:Lucida Sans Unicode; color:#a10a0a; font-size: 25px\"> Violin plot </span>"
   ]
  },
  {
   "cell_type": "code",
   "execution_count": null,
   "id": "ee27055c",
   "metadata": {},
   "outputs": [],
   "source": [
    "\n",
    "def plot_violinplot(df, x, y=False, labels=[\"Violin Plot\", \"xlabel\", \"ylabel\"], figsize=(12,8), \n",
    "             title_fontsize=16, label_fontsize=12):\n",
    "    title = labels[0]\n",
    "    xlabel = labels[1]\n",
    "    ylabel = labels[2]\n",
    "    \n",
    "    try:\n",
    "        plt.figure(figsize=figsize)        \n",
    "        if y:\n",
    "            sns.violinplot(x=x, y=y, data=df)            \n",
    "        else:             \n",
    "            sns.violinplot(x=x, data=df)\n",
    "        \n",
    "    except Exception as e:\n",
    "        print(f\"Exception: {e}\")\n",
    "        \n",
    "    else:\n",
    "        plt.title(title, fontsize=title_fontsize, fontweight='bold', family='monospace')\n",
    "        plt.xlabel(xlabel, fontsize=label_fontsize, fontweight='bold', family='monospace')\n",
    "        plt.ylabel(ylabel, fontsize=label_fontsize, fontweight='bold', family='monospace')\n",
    "        plt.show()\n"
   ]
  },
  {
   "cell_type": "markdown",
   "id": "1b96ef63",
   "metadata": {},
   "source": [
    "<span style=\"font-family:Lucida Sans Unicode; color:#a10a0a; font-size: 25px\"> Bar plot </span>"
   ]
  },
  {
   "cell_type": "code",
   "execution_count": 2,
   "id": "249ee613",
   "metadata": {},
   "outputs": [],
   "source": [
    "def plot_bar(x, y, h_orientation=False, labels=[\"Bar Plot\", \"xlabel\", \"ylabel\"], figsize=(12,8), \n",
    "             title_fontsize=16, label_fontsize=12, color=\"#800e1b\"):  \n",
    "    title = labels[0]\n",
    "    xlabel = labels[1]\n",
    "    ylabel = labels[2]\n",
    "    \n",
    "    try:\n",
    "        plt.figure(figsize=figsize)\n",
    "        if h_orientation:\n",
    "            plt.barh(x, y, color=color)\n",
    "        else:\n",
    "            plt.bar(x, y, color=color)\n",
    "        \n",
    "    except Exception as e:\n",
    "        print(f\"Exception: {e}\")\n",
    "    \n",
    "    else:\n",
    "        plt.title(title, fontsize=title_fontsize, fontweight='bold', family='monospace')\n",
    "        plt.xlabel(xlabel, fontsize=label_fontsize, fontweight='bold', family='monospace')\n",
    "        plt.ylabel(ylabel, fontsize=label_fontsize, fontweight='bold', family='monospace')\n",
    "        plt.grid()\n",
    "        plt.show()\n",
    "    \n",
    "    \n",
    "    "
   ]
  },
  {
   "cell_type": "markdown",
   "id": "477d9678",
   "metadata": {},
   "source": [
    "<span style=\"font-family:Lucida Sans Unicode; color:#a10a0a; font-size: 25px\"> Subplots </span>"
   ]
  },
  {
   "cell_type": "code",
   "execution_count": null,
   "id": "96ceae77",
   "metadata": {},
   "outputs": [],
   "source": [
    "def generate_subplots(data_list, bins=15, color='#800e1b'):\n",
    "    num_plots = len(data_list)\n",
    "    num_rows = (num_plots - 1) // 3 + 1\n",
    "    num_cols = min(num_plots, 3)\n",
    "\n",
    "    fig, axes = plt.subplots(num_rows, num_cols, figsize=(14, 8))\n",
    "    plt.rcParams[\"figure.autolayout\"] = True\n",
    "\n",
    "    for i, data in enumerate(data_list):\n",
    "        row = i // num_cols\n",
    "        col = i % num_cols\n",
    "\n",
    "        if num_rows > 1:\n",
    "            ax = axes[row, col]\n",
    "        else:\n",
    "            ax = axes[col]\n",
    "\n",
    "        data.hist(bins=bins, color=color, ax=ax, edgecolor='#0d0103', linewidth=1.2)\n",
    "        ax.set_title(f'Histogram: {data.name}', fontsize=12, fontweight='bold')\n",
    "\n",
    "    for i in range(num_plots, num_rows * num_cols):\n",
    "        if num_rows > 1:\n",
    "            fig.delaxes(axes[row, col])\n",
    "        else:\n",
    "            fig.delaxes(axes[col])\n",
    "\n",
    "    plt.tight_layout()"
   ]
  },
  {
   "cell_type": "markdown",
   "id": "268daf5a",
   "metadata": {},
   "source": [
    "<span style=\"font-family:Lucida Sans Unicode; color:#a10a0a; font-size: 25px\"> Countplots </span>"
   ]
  },
  {
   "cell_type": "code",
   "execution_count": 8,
   "id": "d186ed9b",
   "metadata": {},
   "outputs": [],
   "source": [
    "def plot_countplot(x, df, labels=[\"Count Plot\", \"xlabel\", \"ylabel\"], figsize=(12, 8), title_font=16, label_font=12):\n",
    "    title = labels[0]\n",
    "    xlabel = labels[1]\n",
    "    ylabel = labels[2]\n",
    "    \n",
    "    try:\n",
    "        plt.figure(figsize=figsize)\n",
    "        sns.countplot(x=x, data=df)\n",
    "        \n",
    "    except Exception as e:\n",
    "        print(f\"Exception: {e}\")\n",
    "    \n",
    "    else:\n",
    "        plt.title(title, fontsize=title_font, fontweight='bold', family='monospace')\n",
    "        plt.xlabel(xlabel, fontsize=label_font, fontweight='bold', family='monospace')\n",
    "        plt.ylabel(ylabel, fontsize=label_font, fontweight='bold', family='monospace')\n",
    "        plt.show()\n"
   ]
  },
  {
   "cell_type": "markdown",
   "id": "e075750a",
   "metadata": {},
   "source": [
    "<span style=\"font-family:Lucida Sans Unicode; color:#a10a0a; font-size: 25px\"> Lineplots</span>"
   ]
  },
  {
   "cell_type": "code",
   "execution_count": 2,
   "id": "fd00027d",
   "metadata": {},
   "outputs": [],
   "source": [
    "def plot_lineplots(x, y, labels=[\"Count Plot\", \"xlabel\", \"ylabel\"], figsize=(12, 8), title_font=16, label_font=12, \n",
    "                   color='maroon', x_rotation=False, y_rotation=False):    \n",
    "    text = labels[0]\n",
    "    xlabel = labels[1]\n",
    "    ylabel = labels[2]\n",
    "    \n",
    "    try:\n",
    "        plt.figure(figsize=figsize)\n",
    "        sb.lineplot(x=x, y=y, color=color)\n",
    "        \n",
    "        if x_rotation:\n",
    "            plt.xticks(rotation=x_rotation)\n",
    "        if y_rotation:\n",
    "            plt.yticks(rotation=y_rotation)\n",
    "            \n",
    "    except Exception as e:\n",
    "        print(f\"Exception: {e}\")\n",
    "    \n",
    "    else: \n",
    "        plt.title(text, fontsize=title_font, fontweight='bold', family='monospace')\n",
    "        plt.xlabel(xlabel, fontsize=label_font, fontweight='bold', family='monospace')    \n",
    "        plt.ylabel(ylabel, fontsize=label_font, fontweight='bold', family='monospace')\n",
    "        plt.show()\n"
   ]
  },
  {
   "cell_type": "markdown",
   "id": "28d1aa38",
   "metadata": {},
   "source": [
    "<span style=\"font-family:Lucida Sans Unicode; color:#a10a0a; font-size: 25px\"> Correlation Heatmap </span>"
   ]
  },
  {
   "cell_type": "code",
   "execution_count": 3,
   "id": "4de23d5c",
   "metadata": {},
   "outputs": [],
   "source": [
    "def plot_corr_heatmap(df, title=\"Correlation Heatmap\", figsize=(12, 8), title_fontsize=16, \n",
    "                      cmap=sb.cubehelix_palette(as_cmap=True), yticks_rotation='horizontal', annot=True):\n",
    "    try:\n",
    "        plt.figure(figsize=figsize)\n",
    "        correlation = df_heatmap.corr()\n",
    "        data_plot = sb.heatmap(correlation, cmap=cmap, annot=annot)\n",
    "        \n",
    "    except Exception as e:\n",
    "        print(f\"Exception: {e}\")\n",
    "    \n",
    "    else: \n",
    "        plt.title(title, fontsize=title_fontsize, fontweight='bold', family='monospace')\n",
    "        plt.yticks(rotation=yticks_rotation)\n",
    "        plt.show()\n"
   ]
  },
  {
   "cell_type": "markdown",
   "id": "ee604520",
   "metadata": {},
   "source": [
    "<span style=\"font-family:Lucida Sans Unicode; color:#a10a0a; font-size: 25px\"> Compare Dataframes </span>"
   ]
  },
  {
   "cell_type": "code",
   "execution_count": null,
   "id": "0adfe90c",
   "metadata": {},
   "outputs": [],
   "source": [
    "def plot_compare_kde(dataframes, columns, super_title):\n",
    "    num_dataframes = len(dataframes)\n",
    "    num_plots = len(columns)\n",
    "\n",
    "    # Calculate the number of rows and columns based on the number of plots\n",
    "    num_rows = num_plots // 3 + (1 if num_plots % 3 > 0 else 0)\n",
    "    num_cols = min(num_plots, 3)\n",
    "\n",
    "    fig, ax = plt.subplots(num_rows, num_cols, figsize=(19, 23))\n",
    "\n",
    "    for i, feature in enumerate(columns):\n",
    "        x_label = feature.replace('_', ' ').capitalize().title()\n",
    "\n",
    "        row_index = i // 3\n",
    "        col_index = i % 3\n",
    "\n",
    "        for df_index, df in enumerate(dataframes):\n",
    "            color = ['r', 'g', 'b'][df_index]\n",
    "            sb.kdeplot(df[feature], ax=ax[row_index, col_index], color=color, label=df.columns[0])\n",
    "\n",
    "        ax[row_index, col_index].set_xlabel(x_label, fontsize=10, fontweight='bold')\n",
    "        ax[row_index, col_index].set_ylabel('Density', fontsize=10, fontweight='bold')\n",
    "        ax[row_index, col_index].legend(fontsize=\"10\", loc=\"upper right\")\n",
    "\n",
    "    for i in range(num_plots, num_rows * num_cols):\n",
    "        fig.delaxes(ax[i // 3, i % 3])\n",
    "\n",
    "    fig.suptitle(super_title, fontsize=18, fontweight='bold')\n",
    "    plt.show()\n"
   ]
  },
  {
   "cell_type": "code",
   "execution_count": null,
   "id": "49958cee",
   "metadata": {},
   "outputs": [],
   "source": []
  }
 ],
 "metadata": {
  "kernelspec": {
   "display_name": "Python 3 (ipykernel)",
   "language": "python",
   "name": "python3"
  },
  "language_info": {
   "codemirror_mode": {
    "name": "ipython",
    "version": 3
   },
   "file_extension": ".py",
   "mimetype": "text/x-python",
   "name": "python",
   "nbconvert_exporter": "python",
   "pygments_lexer": "ipython3",
   "version": "3.10.9"
  }
 },
 "nbformat": 4,
 "nbformat_minor": 5
}
