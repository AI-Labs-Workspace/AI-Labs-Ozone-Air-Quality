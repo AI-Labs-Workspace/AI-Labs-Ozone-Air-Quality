{
 "cells": [
  {
   "cell_type": "markdown",
   "id": "1643fbcb",
   "metadata": {},
   "source": [
    "<span style=\"font-family:Lucida Sans Unicode; color:#a10a0a; font-size: 25px\"> Import Libraries </span>"
   ]
  },
  {
   "cell_type": "code",
   "execution_count": 1,
   "id": "2fa2bce6",
   "metadata": {},
   "outputs": [],
   "source": [
    "import python_utils.common_utils as cu\n",
    "import missingno as msn\n",
    "import pandas as pd\n",
    "import seaborn as sns\n",
    "import matplotlib.pyplot as plt\n",
    "import polars as pl \n",
    "import numpy as np\n",
    "import os \n",
    "import warnings\n",
    "%run ../visualizations/plottings.ipynb\n",
    "warnings.filterwarnings('ignore')"
   ]
  },
  {
   "cell_type": "markdown",
   "id": "b4cdbca8",
   "metadata": {},
   "source": [
    "<span style=\"font-family:Lucida Sans Unicode; color:#a10a0a; font-size: 25px\"> Load Dataset </span>"
   ]
  },
  {
   "cell_type": "code",
   "execution_count": 2,
   "id": "c6f112d1",
   "metadata": {},
   "outputs": [
    {
     "data": {
      "text/html": [
       "<div>\n",
       "<style scoped>\n",
       "    .dataframe tbody tr th:only-of-type {\n",
       "        vertical-align: middle;\n",
       "    }\n",
       "\n",
       "    .dataframe tbody tr th {\n",
       "        vertical-align: top;\n",
       "    }\n",
       "\n",
       "    .dataframe thead th {\n",
       "        text-align: right;\n",
       "    }\n",
       "</style>\n",
       "<table border=\"1\" class=\"dataframe\">\n",
       "  <thead>\n",
       "    <tr style=\"text-align: right;\">\n",
       "      <th></th>\n",
       "      <th>State Code</th>\n",
       "      <th>County Code</th>\n",
       "      <th>Site Num</th>\n",
       "      <th>Parameter Code</th>\n",
       "      <th>POC</th>\n",
       "      <th>Latitude</th>\n",
       "      <th>Longitude</th>\n",
       "      <th>Datum</th>\n",
       "      <th>Parameter Name</th>\n",
       "      <th>Date Local</th>\n",
       "      <th>...</th>\n",
       "      <th>Units of Measure</th>\n",
       "      <th>MDL</th>\n",
       "      <th>Uncertainty</th>\n",
       "      <th>Qualifier</th>\n",
       "      <th>Method Type</th>\n",
       "      <th>Method Code</th>\n",
       "      <th>Method Name</th>\n",
       "      <th>State Name</th>\n",
       "      <th>County Name</th>\n",
       "      <th>Date of Last Change</th>\n",
       "    </tr>\n",
       "  </thead>\n",
       "  <tbody>\n",
       "    <tr>\n",
       "      <th>0</th>\n",
       "      <td>01</td>\n",
       "      <td>003</td>\n",
       "      <td>0010</td>\n",
       "      <td>44201</td>\n",
       "      <td>1</td>\n",
       "      <td>30.497478</td>\n",
       "      <td>-87.880258</td>\n",
       "      <td>NAD83</td>\n",
       "      <td>Ozone</td>\n",
       "      <td>2014-03-01</td>\n",
       "      <td>...</td>\n",
       "      <td>Parts per million</td>\n",
       "      <td>0.005</td>\n",
       "      <td>NaN</td>\n",
       "      <td>None</td>\n",
       "      <td>FEM</td>\n",
       "      <td>47</td>\n",
       "      <td>INSTRUMENTAL - ULTRA VIOLET</td>\n",
       "      <td>Alabama</td>\n",
       "      <td>Baldwin</td>\n",
       "      <td>2014-06-30</td>\n",
       "    </tr>\n",
       "    <tr>\n",
       "      <th>1</th>\n",
       "      <td>01</td>\n",
       "      <td>003</td>\n",
       "      <td>0010</td>\n",
       "      <td>44201</td>\n",
       "      <td>1</td>\n",
       "      <td>30.497478</td>\n",
       "      <td>-87.880258</td>\n",
       "      <td>NAD83</td>\n",
       "      <td>Ozone</td>\n",
       "      <td>2014-03-01</td>\n",
       "      <td>...</td>\n",
       "      <td>Parts per million</td>\n",
       "      <td>0.005</td>\n",
       "      <td>NaN</td>\n",
       "      <td>None</td>\n",
       "      <td>FEM</td>\n",
       "      <td>47</td>\n",
       "      <td>INSTRUMENTAL - ULTRA VIOLET</td>\n",
       "      <td>Alabama</td>\n",
       "      <td>Baldwin</td>\n",
       "      <td>2014-06-30</td>\n",
       "    </tr>\n",
       "    <tr>\n",
       "      <th>2</th>\n",
       "      <td>01</td>\n",
       "      <td>003</td>\n",
       "      <td>0010</td>\n",
       "      <td>44201</td>\n",
       "      <td>1</td>\n",
       "      <td>30.497478</td>\n",
       "      <td>-87.880258</td>\n",
       "      <td>NAD83</td>\n",
       "      <td>Ozone</td>\n",
       "      <td>2014-03-01</td>\n",
       "      <td>...</td>\n",
       "      <td>Parts per million</td>\n",
       "      <td>0.005</td>\n",
       "      <td>NaN</td>\n",
       "      <td>None</td>\n",
       "      <td>FEM</td>\n",
       "      <td>47</td>\n",
       "      <td>INSTRUMENTAL - ULTRA VIOLET</td>\n",
       "      <td>Alabama</td>\n",
       "      <td>Baldwin</td>\n",
       "      <td>2014-06-30</td>\n",
       "    </tr>\n",
       "    <tr>\n",
       "      <th>3</th>\n",
       "      <td>01</td>\n",
       "      <td>003</td>\n",
       "      <td>0010</td>\n",
       "      <td>44201</td>\n",
       "      <td>1</td>\n",
       "      <td>30.497478</td>\n",
       "      <td>-87.880258</td>\n",
       "      <td>NAD83</td>\n",
       "      <td>Ozone</td>\n",
       "      <td>2014-03-01</td>\n",
       "      <td>...</td>\n",
       "      <td>Parts per million</td>\n",
       "      <td>0.005</td>\n",
       "      <td>NaN</td>\n",
       "      <td>None</td>\n",
       "      <td>FEM</td>\n",
       "      <td>47</td>\n",
       "      <td>INSTRUMENTAL - ULTRA VIOLET</td>\n",
       "      <td>Alabama</td>\n",
       "      <td>Baldwin</td>\n",
       "      <td>2014-06-30</td>\n",
       "    </tr>\n",
       "    <tr>\n",
       "      <th>4</th>\n",
       "      <td>01</td>\n",
       "      <td>003</td>\n",
       "      <td>0010</td>\n",
       "      <td>44201</td>\n",
       "      <td>1</td>\n",
       "      <td>30.497478</td>\n",
       "      <td>-87.880258</td>\n",
       "      <td>NAD83</td>\n",
       "      <td>Ozone</td>\n",
       "      <td>2014-03-01</td>\n",
       "      <td>...</td>\n",
       "      <td>Parts per million</td>\n",
       "      <td>0.005</td>\n",
       "      <td>NaN</td>\n",
       "      <td>None</td>\n",
       "      <td>FEM</td>\n",
       "      <td>47</td>\n",
       "      <td>INSTRUMENTAL - ULTRA VIOLET</td>\n",
       "      <td>Alabama</td>\n",
       "      <td>Baldwin</td>\n",
       "      <td>2014-06-30</td>\n",
       "    </tr>\n",
       "  </tbody>\n",
       "</table>\n",
       "<p>5 rows × 24 columns</p>\n",
       "</div>"
      ],
      "text/plain": [
       "  State Code County Code Site Num Parameter Code  POC   Latitude  Longitude  \\\n",
       "0         01         003     0010          44201    1  30.497478 -87.880258   \n",
       "1         01         003     0010          44201    1  30.497478 -87.880258   \n",
       "2         01         003     0010          44201    1  30.497478 -87.880258   \n",
       "3         01         003     0010          44201    1  30.497478 -87.880258   \n",
       "4         01         003     0010          44201    1  30.497478 -87.880258   \n",
       "\n",
       "   Datum Parameter Name  Date Local  ...   Units of Measure    MDL  \\\n",
       "0  NAD83          Ozone  2014-03-01  ...  Parts per million  0.005   \n",
       "1  NAD83          Ozone  2014-03-01  ...  Parts per million  0.005   \n",
       "2  NAD83          Ozone  2014-03-01  ...  Parts per million  0.005   \n",
       "3  NAD83          Ozone  2014-03-01  ...  Parts per million  0.005   \n",
       "4  NAD83          Ozone  2014-03-01  ...  Parts per million  0.005   \n",
       "\n",
       "  Uncertainty  Qualifier Method Type  Method Code  \\\n",
       "0         NaN       None         FEM           47   \n",
       "1         NaN       None         FEM           47   \n",
       "2         NaN       None         FEM           47   \n",
       "3         NaN       None         FEM           47   \n",
       "4         NaN       None         FEM           47   \n",
       "\n",
       "                   Method Name State Name County Name  Date of Last Change  \n",
       "0  INSTRUMENTAL - ULTRA VIOLET    Alabama     Baldwin           2014-06-30  \n",
       "1  INSTRUMENTAL - ULTRA VIOLET    Alabama     Baldwin           2014-06-30  \n",
       "2  INSTRUMENTAL - ULTRA VIOLET    Alabama     Baldwin           2014-06-30  \n",
       "3  INSTRUMENTAL - ULTRA VIOLET    Alabama     Baldwin           2014-06-30  \n",
       "4  INSTRUMENTAL - ULTRA VIOLET    Alabama     Baldwin           2014-06-30  \n",
       "\n",
       "[5 rows x 24 columns]"
      ]
     },
     "execution_count": 2,
     "metadata": {},
     "output_type": "execute_result"
    }
   ],
   "source": [
    "df = cu.load_df(\"parquet\", \"pd\", \"../../dataset/raw/ozone_hourly_2014.parquet\")\n",
    "df.head()\n"
   ]
  },
  {
   "cell_type": "markdown",
   "id": "c6f391d6",
   "metadata": {},
   "source": [
    "<span style=\"font-family:Lucida Sans Unicode; color:#a10a0a; font-size: 25px\"> Convert Data Types </span>"
   ]
  },
  {
   "cell_type": "code",
   "execution_count": 3,
   "id": "cff71f03",
   "metadata": {},
   "outputs": [
    {
     "name": "stdout",
     "output_type": "stream",
     "text": [
      "<class 'pandas.core.frame.DataFrame'>\n",
      "RangeIndex: 9060694 entries, 0 to 9060693\n",
      "Data columns (total 24 columns):\n",
      " #   Column               Dtype  \n",
      "---  ------               -----  \n",
      " 0   State Code           object \n",
      " 1   County Code          object \n",
      " 2   Site Num             object \n",
      " 3   Parameter Code       object \n",
      " 4   POC                  int32  \n",
      " 5   Latitude             float64\n",
      " 6   Longitude            float64\n",
      " 7   Datum                object \n",
      " 8   Parameter Name       object \n",
      " 9   Date Local           object \n",
      " 10  Time Local           object \n",
      " 11  Date GMT             object \n",
      " 12  Time GMT             object \n",
      " 13  Sample Measurement   float64\n",
      " 14  Units of Measure     object \n",
      " 15  MDL                  float64\n",
      " 16  Uncertainty          float64\n",
      " 17  Qualifier            object \n",
      " 18  Method Type          object \n",
      " 19  Method Code          int32  \n",
      " 20  Method Name          object \n",
      " 21  State Name           object \n",
      " 22  County Name          object \n",
      " 23  Date of Last Change  object \n",
      "dtypes: float64(5), int32(2), object(17)\n",
      "memory usage: 1.6+ GB\n"
     ]
    }
   ],
   "source": [
    "d_type = {'State Code': str, 'County Code': str, 'Site Num': str, 'Parameter Code': str, 'POC': int,\n",
    "       'Latitude': float, 'Longitude': float, 'Datum': str, 'Parameter Name': str, 'Date Local': str,\n",
    "       'Time Local': str, 'Date GMT': str, 'Time GMT': str, 'Sample Measurement': float,\n",
    "       'Units of Measure': str, 'MDL': float, 'Uncertainty': float, 'Qualifier': str, 'Method Type': str,\n",
    "       'Method Code': int, 'Method Name': str, 'State Name': str, 'County Name': str,'Date of Last Change': str}\n",
    "\n",
    "df = df.astype(d_type)\n",
    "df.info()\n"
   ]
  },
  {
   "cell_type": "markdown",
   "id": "b22e1eb5",
   "metadata": {},
   "source": [
    "<span style=\"font-family:Lucida Sans Unicode; color:#a10a0a; font-size: 25px\"> Make column names more consistent </span>"
   ]
  },
  {
   "cell_type": "code",
   "execution_count": 4,
   "id": "5aad15a7",
   "metadata": {},
   "outputs": [
    {
     "data": {
      "text/plain": [
       "Index(['State Code', 'County Code', 'Site Num', 'Parameter Code', 'POC',\n",
       "       'Latitude', 'Longitude', 'Datum', 'Parameter Name', 'Date Local',\n",
       "       'Time Local', 'Date GMT', 'Time GMT', 'Sample Measurement',\n",
       "       'Units of Measure', 'MDL', 'Uncertainty', 'Qualifier', 'Method Type',\n",
       "       'Method Code', 'Method Name', 'State Name', 'County Name',\n",
       "       'Date of Last Change'],\n",
       "      dtype='object')"
      ]
     },
     "execution_count": 4,
     "metadata": {},
     "output_type": "execute_result"
    }
   ],
   "source": [
    "df.columns\n"
   ]
  },
  {
   "cell_type": "code",
   "execution_count": 5,
   "id": "4cc1c993",
   "metadata": {},
   "outputs": [
    {
     "data": {
      "text/plain": [
       "Index(['state_code', 'county_code', 'site_num', 'parameter_code', 'poc',\n",
       "       'latitude', 'longitude', 'datum', 'parameter_name', 'date_local',\n",
       "       'time_local', 'date_gmt', 'time_gmt', 'sample_measurement',\n",
       "       'units_of_measure', 'mdl', 'uncertainty', 'qualifier', 'method_type',\n",
       "       'method_code', 'method_name', 'state_name', 'county_name',\n",
       "       'date_of_last_change'],\n",
       "      dtype='object')"
      ]
     },
     "execution_count": 5,
     "metadata": {},
     "output_type": "execute_result"
    }
   ],
   "source": [
    "df.columns = [col.lower().replace(' ', '_') for col in df.columns]\n",
    "df.columns\n"
   ]
  },
  {
   "cell_type": "markdown",
   "id": "ff21beaa",
   "metadata": {},
   "source": [
    "<span style=\"font-family:Lucida Sans Unicode; color:#a10a0a; font-size: 25px\"> Detect & Handle Outliers </span>"
   ]
  },
  {
   "cell_type": "code",
   "execution_count": 6,
   "id": "da7fb7fb",
   "metadata": {},
   "outputs": [
    {
     "data": {
      "text/plain": [
       "Index(['poc', 'latitude', 'longitude', 'sample_measurement', 'mdl',\n",
       "       'uncertainty', 'method_code'],\n",
       "      dtype='object')"
      ]
     },
     "execution_count": 6,
     "metadata": {},
     "output_type": "execute_result"
    }
   ],
   "source": [
    "numeric_columns = df.select_dtypes('number').columns\n",
    "numeric_columns\n"
   ]
  },
  {
   "cell_type": "code",
   "execution_count": 7,
   "id": "8ea43d6b",
   "metadata": {},
   "outputs": [
    {
     "data": {
      "text/html": [
       "<div>\n",
       "<style scoped>\n",
       "    .dataframe tbody tr th:only-of-type {\n",
       "        vertical-align: middle;\n",
       "    }\n",
       "\n",
       "    .dataframe tbody tr th {\n",
       "        vertical-align: top;\n",
       "    }\n",
       "\n",
       "    .dataframe thead th {\n",
       "        text-align: right;\n",
       "    }\n",
       "</style>\n",
       "<table border=\"1\" class=\"dataframe\">\n",
       "  <thead>\n",
       "    <tr style=\"text-align: right;\">\n",
       "      <th></th>\n",
       "      <th>poc</th>\n",
       "      <th>latitude</th>\n",
       "      <th>longitude</th>\n",
       "      <th>sample_measurement</th>\n",
       "      <th>mdl</th>\n",
       "      <th>uncertainty</th>\n",
       "      <th>method_code</th>\n",
       "    </tr>\n",
       "  </thead>\n",
       "  <tbody>\n",
       "    <tr>\n",
       "      <th>0</th>\n",
       "      <td>1</td>\n",
       "      <td>30.497478</td>\n",
       "      <td>-87.880258</td>\n",
       "      <td>0.047</td>\n",
       "      <td>0.005</td>\n",
       "      <td>NaN</td>\n",
       "      <td>47</td>\n",
       "    </tr>\n",
       "    <tr>\n",
       "      <th>1</th>\n",
       "      <td>1</td>\n",
       "      <td>30.497478</td>\n",
       "      <td>-87.880258</td>\n",
       "      <td>0.047</td>\n",
       "      <td>0.005</td>\n",
       "      <td>NaN</td>\n",
       "      <td>47</td>\n",
       "    </tr>\n",
       "    <tr>\n",
       "      <th>2</th>\n",
       "      <td>1</td>\n",
       "      <td>30.497478</td>\n",
       "      <td>-87.880258</td>\n",
       "      <td>0.043</td>\n",
       "      <td>0.005</td>\n",
       "      <td>NaN</td>\n",
       "      <td>47</td>\n",
       "    </tr>\n",
       "    <tr>\n",
       "      <th>3</th>\n",
       "      <td>1</td>\n",
       "      <td>30.497478</td>\n",
       "      <td>-87.880258</td>\n",
       "      <td>0.038</td>\n",
       "      <td>0.005</td>\n",
       "      <td>NaN</td>\n",
       "      <td>47</td>\n",
       "    </tr>\n",
       "    <tr>\n",
       "      <th>4</th>\n",
       "      <td>1</td>\n",
       "      <td>30.497478</td>\n",
       "      <td>-87.880258</td>\n",
       "      <td>0.035</td>\n",
       "      <td>0.005</td>\n",
       "      <td>NaN</td>\n",
       "      <td>47</td>\n",
       "    </tr>\n",
       "  </tbody>\n",
       "</table>\n",
       "</div>"
      ],
      "text/plain": [
       "   poc   latitude  longitude  sample_measurement    mdl  uncertainty  \\\n",
       "0    1  30.497478 -87.880258               0.047  0.005          NaN   \n",
       "1    1  30.497478 -87.880258               0.047  0.005          NaN   \n",
       "2    1  30.497478 -87.880258               0.043  0.005          NaN   \n",
       "3    1  30.497478 -87.880258               0.038  0.005          NaN   \n",
       "4    1  30.497478 -87.880258               0.035  0.005          NaN   \n",
       "\n",
       "   method_code  \n",
       "0           47  \n",
       "1           47  \n",
       "2           47  \n",
       "3           47  \n",
       "4           47  "
      ]
     },
     "execution_count": 7,
     "metadata": {},
     "output_type": "execute_result"
    }
   ],
   "source": [
    "df_sub = df.loc[:, numeric_columns]\n",
    "df_sub.head()\n"
   ]
  },
  {
   "cell_type": "code",
   "execution_count": 8,
   "id": "11777f03",
   "metadata": {},
   "outputs": [
    {
     "data": {
      "text/html": [
       "<div>\n",
       "<style scoped>\n",
       "    .dataframe tbody tr th:only-of-type {\n",
       "        vertical-align: middle;\n",
       "    }\n",
       "\n",
       "    .dataframe tbody tr th {\n",
       "        vertical-align: top;\n",
       "    }\n",
       "\n",
       "    .dataframe thead th {\n",
       "        text-align: right;\n",
       "    }\n",
       "</style>\n",
       "<table border=\"1\" class=\"dataframe\">\n",
       "  <thead>\n",
       "    <tr style=\"text-align: right;\">\n",
       "      <th></th>\n",
       "      <th>poc</th>\n",
       "      <th>latitude</th>\n",
       "      <th>longitude</th>\n",
       "      <th>sample_measurement</th>\n",
       "      <th>mdl</th>\n",
       "      <th>uncertainty</th>\n",
       "      <th>method_code</th>\n",
       "    </tr>\n",
       "  </thead>\n",
       "  <tbody>\n",
       "    <tr>\n",
       "      <th>count</th>\n",
       "      <td>9.060694e+06</td>\n",
       "      <td>9.060694e+06</td>\n",
       "      <td>9.060694e+06</td>\n",
       "      <td>9.060694e+06</td>\n",
       "      <td>9.060694e+06</td>\n",
       "      <td>0.0</td>\n",
       "      <td>9.060694e+06</td>\n",
       "    </tr>\n",
       "    <tr>\n",
       "      <th>mean</th>\n",
       "      <td>1.070256e+00</td>\n",
       "      <td>3.743710e+01</td>\n",
       "      <td>-9.534912e+01</td>\n",
       "      <td>3.027292e-02</td>\n",
       "      <td>1.360743e-01</td>\n",
       "      <td>NaN</td>\n",
       "      <td>7.107903e+01</td>\n",
       "    </tr>\n",
       "    <tr>\n",
       "      <th>std</th>\n",
       "      <td>3.276548e-01</td>\n",
       "      <td>5.048730e+00</td>\n",
       "      <td>1.632385e+01</td>\n",
       "      <td>1.550847e-02</td>\n",
       "      <td>8.123390e-01</td>\n",
       "      <td>NaN</td>\n",
       "      <td>4.324711e+01</td>\n",
       "    </tr>\n",
       "    <tr>\n",
       "      <th>min</th>\n",
       "      <td>1.000000e+00</td>\n",
       "      <td>1.817794e+01</td>\n",
       "      <td>-1.580886e+02</td>\n",
       "      <td>-5.000000e-03</td>\n",
       "      <td>6.000000e-04</td>\n",
       "      <td>NaN</td>\n",
       "      <td>1.900000e+01</td>\n",
       "    </tr>\n",
       "    <tr>\n",
       "      <th>25%</th>\n",
       "      <td>1.000000e+00</td>\n",
       "      <td>3.391814e+01</td>\n",
       "      <td>-1.099068e+02</td>\n",
       "      <td>1.900000e-02</td>\n",
       "      <td>5.000000e-03</td>\n",
       "      <td>NaN</td>\n",
       "      <td>4.700000e+01</td>\n",
       "    </tr>\n",
       "    <tr>\n",
       "      <th>50%</th>\n",
       "      <td>1.000000e+00</td>\n",
       "      <td>3.801333e+01</td>\n",
       "      <td>-9.200632e+01</td>\n",
       "      <td>3.000000e-02</td>\n",
       "      <td>5.000000e-03</td>\n",
       "      <td>NaN</td>\n",
       "      <td>8.700000e+01</td>\n",
       "    </tr>\n",
       "    <tr>\n",
       "      <th>75%</th>\n",
       "      <td>1.000000e+00</td>\n",
       "      <td>4.092200e+01</td>\n",
       "      <td>-8.197222e+01</td>\n",
       "      <td>4.100000e-02</td>\n",
       "      <td>5.000000e-03</td>\n",
       "      <td>NaN</td>\n",
       "      <td>8.700000e+01</td>\n",
       "    </tr>\n",
       "    <tr>\n",
       "      <th>max</th>\n",
       "      <td>6.000000e+00</td>\n",
       "      <td>6.484569e+01</td>\n",
       "      <td>-6.591548e+01</td>\n",
       "      <td>2.130000e-01</td>\n",
       "      <td>8.000000e+00</td>\n",
       "      <td>NaN</td>\n",
       "      <td>9.010000e+02</td>\n",
       "    </tr>\n",
       "  </tbody>\n",
       "</table>\n",
       "</div>"
      ],
      "text/plain": [
       "                poc      latitude     longitude  sample_measurement  \\\n",
       "count  9.060694e+06  9.060694e+06  9.060694e+06        9.060694e+06   \n",
       "mean   1.070256e+00  3.743710e+01 -9.534912e+01        3.027292e-02   \n",
       "std    3.276548e-01  5.048730e+00  1.632385e+01        1.550847e-02   \n",
       "min    1.000000e+00  1.817794e+01 -1.580886e+02       -5.000000e-03   \n",
       "25%    1.000000e+00  3.391814e+01 -1.099068e+02        1.900000e-02   \n",
       "50%    1.000000e+00  3.801333e+01 -9.200632e+01        3.000000e-02   \n",
       "75%    1.000000e+00  4.092200e+01 -8.197222e+01        4.100000e-02   \n",
       "max    6.000000e+00  6.484569e+01 -6.591548e+01        2.130000e-01   \n",
       "\n",
       "                mdl  uncertainty   method_code  \n",
       "count  9.060694e+06          0.0  9.060694e+06  \n",
       "mean   1.360743e-01          NaN  7.107903e+01  \n",
       "std    8.123390e-01          NaN  4.324711e+01  \n",
       "min    6.000000e-04          NaN  1.900000e+01  \n",
       "25%    5.000000e-03          NaN  4.700000e+01  \n",
       "50%    5.000000e-03          NaN  8.700000e+01  \n",
       "75%    5.000000e-03          NaN  8.700000e+01  \n",
       "max    8.000000e+00          NaN  9.010000e+02  "
      ]
     },
     "execution_count": 8,
     "metadata": {},
     "output_type": "execute_result"
    }
   ],
   "source": [
    "df_sub.describe()\n"
   ]
  },
  {
   "cell_type": "code",
   "execution_count": 9,
   "id": "d5457681",
   "metadata": {},
   "outputs": [
    {
     "data": {
      "text/plain": [
       "array([1, 2, 6, 3, 4])"
      ]
     },
     "execution_count": 9,
     "metadata": {},
     "output_type": "execute_result"
    }
   ],
   "source": [
    "df_sub['poc'].unique()\n"
   ]
  },
  {
   "cell_type": "code",
   "execution_count": 10,
   "id": "eb69b17c",
   "metadata": {},
   "outputs": [
    {
     "data": {
      "text/plain": [
       "array([ 47,  87,  56,  19, 199,  91, 190, 901, 187,  53, 160, 112])"
      ]
     },
     "execution_count": 10,
     "metadata": {},
     "output_type": "execute_result"
    }
   ],
   "source": [
    "df_sub['method_code'].unique()\n"
   ]
  },
  {
   "cell_type": "code",
   "execution_count": 11,
   "id": "e567b417",
   "metadata": {},
   "outputs": [
    {
     "data": {
      "text/plain": [
       "array([5.0e-03, 5.0e+00, 6.0e-04, 3.0e-03, 8.0e+00, 1.5e-03])"
      ]
     },
     "execution_count": 11,
     "metadata": {},
     "output_type": "execute_result"
    }
   ],
   "source": [
    "df_sub['mdl'].unique()\n"
   ]
  },
  {
   "cell_type": "code",
   "execution_count": 12,
   "id": "acfcb505",
   "metadata": {},
   "outputs": [
    {
     "data": {
      "text/plain": [
       "array([ 0.047,  0.043,  0.038,  0.035,  0.034,  0.037,  0.044,  0.046,\n",
       "        0.045,  0.042,  0.039,  0.033,  0.031,  0.029,  0.023,  0.026,\n",
       "        0.025,  0.027,  0.04 ,  0.041,  0.036,  0.028,  0.013,  0.014,\n",
       "        0.017,  0.021,  0.032,  0.03 ,  0.02 ,  0.019,  0.018,  0.016,\n",
       "        0.015,  0.012,  0.011,  0.022,  0.024,  0.003,  0.002,  0.   ,\n",
       "        0.006,  0.053,  0.057,  0.054,  0.052,  0.048,  0.051,  0.049,\n",
       "        0.008,  0.009,  0.005,  0.004,  0.055,  0.01 ,  0.007,  0.056,\n",
       "        0.05 ,  0.061,  0.059,  0.06 ,  0.058,  0.001,  0.066,  0.065,\n",
       "        0.064,  0.067,  0.069,  0.063,  0.074,  0.073,  0.071,  0.076,\n",
       "        0.078,  0.077,  0.07 ,  0.068,  0.062,  0.075,  0.072,  0.081,\n",
       "        0.123,  0.082,  0.079, -0.001,  0.085,  0.084,  0.086,  0.083,\n",
       "        0.08 ,  0.091,  0.096,  0.093,  0.087,  0.088,  0.092,  0.09 ,\n",
       "        0.094,  0.095,  0.089,  0.102,  0.099,  0.098,  0.097,  0.105,\n",
       "        0.106,  0.104,  0.116, -0.002,  0.103,  0.101,  0.11 ,  0.107,\n",
       "        0.111,  0.112,  0.108,  0.1  ,  0.115,  0.124,  0.128,  0.12 ,\n",
       "        0.114,  0.118,  0.113,  0.109,  0.117, -0.003,  0.126,  0.125,\n",
       "        0.129,  0.133,  0.13 ,  0.121,  0.122,  0.131,  0.137,  0.132,\n",
       "        0.119,  0.141,  0.138, -0.004,  0.127,  0.2  , -0.005,  0.143,\n",
       "        0.213,  0.135,  0.146])"
      ]
     },
     "execution_count": 12,
     "metadata": {},
     "output_type": "execute_result"
    }
   ],
   "source": [
    "df_sub['sample_measurement'].unique()\n"
   ]
  },
  {
   "cell_type": "code",
   "execution_count": 13,
   "id": "31be1772",
   "metadata": {},
   "outputs": [
    {
     "data": {
      "text/html": [
       "<div>\n",
       "<style scoped>\n",
       "    .dataframe tbody tr th:only-of-type {\n",
       "        vertical-align: middle;\n",
       "    }\n",
       "\n",
       "    .dataframe tbody tr th {\n",
       "        vertical-align: top;\n",
       "    }\n",
       "\n",
       "    .dataframe thead th {\n",
       "        text-align: right;\n",
       "    }\n",
       "</style>\n",
       "<table border=\"1\" class=\"dataframe\">\n",
       "  <thead>\n",
       "    <tr style=\"text-align: right;\">\n",
       "      <th></th>\n",
       "      <th>sample_measurement</th>\n",
       "    </tr>\n",
       "  </thead>\n",
       "  <tbody>\n",
       "    <tr>\n",
       "      <th>0</th>\n",
       "      <td>0.047</td>\n",
       "    </tr>\n",
       "    <tr>\n",
       "      <th>1</th>\n",
       "      <td>0.047</td>\n",
       "    </tr>\n",
       "    <tr>\n",
       "      <th>2</th>\n",
       "      <td>0.043</td>\n",
       "    </tr>\n",
       "    <tr>\n",
       "      <th>3</th>\n",
       "      <td>0.038</td>\n",
       "    </tr>\n",
       "    <tr>\n",
       "      <th>4</th>\n",
       "      <td>0.035</td>\n",
       "    </tr>\n",
       "    <tr>\n",
       "      <th>...</th>\n",
       "      <td>...</td>\n",
       "    </tr>\n",
       "    <tr>\n",
       "      <th>9060689</th>\n",
       "      <td>0.019</td>\n",
       "    </tr>\n",
       "    <tr>\n",
       "      <th>9060690</th>\n",
       "      <td>0.021</td>\n",
       "    </tr>\n",
       "    <tr>\n",
       "      <th>9060691</th>\n",
       "      <td>0.024</td>\n",
       "    </tr>\n",
       "    <tr>\n",
       "      <th>9060692</th>\n",
       "      <td>0.002</td>\n",
       "    </tr>\n",
       "    <tr>\n",
       "      <th>9060693</th>\n",
       "      <td>0.001</td>\n",
       "    </tr>\n",
       "  </tbody>\n",
       "</table>\n",
       "<p>9060694 rows × 1 columns</p>\n",
       "</div>"
      ],
      "text/plain": [
       "         sample_measurement\n",
       "0                     0.047\n",
       "1                     0.047\n",
       "2                     0.043\n",
       "3                     0.038\n",
       "4                     0.035\n",
       "...                     ...\n",
       "9060689               0.019\n",
       "9060690               0.021\n",
       "9060691               0.024\n",
       "9060692               0.002\n",
       "9060693               0.001\n",
       "\n",
       "[9060694 rows x 1 columns]"
      ]
     },
     "execution_count": 13,
     "metadata": {},
     "output_type": "execute_result"
    }
   ],
   "source": [
    "df_sub.drop(\n",
    "    labels=['latitude','longitude','poc','method_code','method_code', 'mdl', 'uncertainty'], axis=1, inplace=True\n",
    ")\n",
    "df_sub\n"
   ]
  },
  {
   "cell_type": "code",
   "execution_count": 14,
   "id": "84a4c76f",
   "metadata": {},
   "outputs": [
    {
     "data": {
      "image/png": "[encoded data removed]",
      "text/plain": [
       "<Figure size 1100x1000 with 1 Axes>"
      ]
     },
     "metadata": {},
     "output_type": "display_data"
    }
   ],
   "source": [
    "plot_boxplot(df_sub, [\"Numeric Column\", \"\", \"Range\"])\n"
   ]
  },
  {
   "cell_type": "code",
   "execution_count": 15,
   "id": "c8ecb24d",
   "metadata": {},
   "outputs": [
    {
     "data": {
      "text/plain": [
       "0     0.047\n",
       "1     0.047\n",
       "2     0.043\n",
       "3     0.038\n",
       "4     0.035\n",
       "5     0.035\n",
       "6     0.034\n",
       "7     0.037\n",
       "8     0.044\n",
       "9     0.046\n",
       "10    0.046\n",
       "11    0.046\n",
       "12    0.046\n",
       "13    0.046\n",
       "14    0.045\n",
       "Name: sample_measurement, dtype: float64"
      ]
     },
     "execution_count": 15,
     "metadata": {},
     "output_type": "execute_result"
    }
   ],
   "source": [
    "numeric_columns = df_sub.select_dtypes('number').columns\n",
    "lim = np.abs((df_sub - df_sub.mean()) / df_sub.std(ddof=0)) < 3\n",
    "df.loc[:, numeric_columns] = df_sub.where(lim, np.nan)\n",
    "df['sample_measurement'].head(15)\n"
   ]
  },
  {
   "cell_type": "markdown",
   "id": "6ec4b5f7",
   "metadata": {},
   "source": [
    "<span style=\"font-family:Lucida Sans Unicode; color:#a10a0a; font-size: 25px\"> Truncate Missing/NaN Values </span>"
   ]
  },
  {
   "cell_type": "code",
   "execution_count": 16,
   "id": "a95f1479",
   "metadata": {},
   "outputs": [
    {
     "data": {
      "text/plain": [
       "(9060694, 24)"
      ]
     },
     "execution_count": 16,
     "metadata": {},
     "output_type": "execute_result"
    }
   ],
   "source": [
    "df.shape\n"
   ]
  },
  {
   "cell_type": "code",
   "execution_count": 17,
   "id": "de611f5d",
   "metadata": {},
   "outputs": [
    {
     "data": {
      "image/png": "[encoded data removed]",
      "text/plain": [
       "<Figure size 1300x800 with 2 Axes>"
      ]
     },
     "metadata": {},
     "output_type": "display_data"
    }
   ],
   "source": [
    "plot_missing_no(df, \"Missingno Matrix\")\n"
   ]
  },
  {
   "cell_type": "code",
   "execution_count": 18,
   "id": "60f356c7",
   "metadata": {},
   "outputs": [
    {
     "data": {
      "text/plain": [
       "state_code                   0\n",
       "county_code                  0\n",
       "site_num                     0\n",
       "parameter_code               0\n",
       "poc                          0\n",
       "latitude                     0\n",
       "longitude                    0\n",
       "datum                        0\n",
       "parameter_name               0\n",
       "date_local                   0\n",
       "time_local                   0\n",
       "date_gmt                     0\n",
       "time_gmt                     0\n",
       "sample_measurement       22777\n",
       "units_of_measure             0\n",
       "mdl                          0\n",
       "uncertainty            9060694\n",
       "qualifier                    0\n",
       "method_type                  0\n",
       "method_code                  0\n",
       "method_name                  0\n",
       "state_name                   0\n",
       "county_name                  0\n",
       "date_of_last_change          0\n",
       "dtype: int64"
      ]
     },
     "execution_count": 18,
     "metadata": {},
     "output_type": "execute_result"
    }
   ],
   "source": [
    "df.isnull().sum()\n"
   ]
  },
  {
   "cell_type": "code",
   "execution_count": 19,
   "id": "1639d181",
   "metadata": {},
   "outputs": [
    {
     "name": "stdout",
     "output_type": "stream",
     "text": [
      "Uncertainty Null Values\n",
      "Total Rows: 9060694 \n",
      "Null Rows: 9060694\n"
     ]
    }
   ],
   "source": [
    "print(f\"Uncertainty Null Values\\nTotal Rows: {df.shape[0]} \\nNull Rows: {df['uncertainty'].isnull().sum()}\")\n"
   ]
  },
  {
   "cell_type": "code",
   "execution_count": 20,
   "id": "1a5331ae",
   "metadata": {},
   "outputs": [
    {
     "data": {
      "text/plain": [
       "Index(['state_code', 'county_code', 'site_num', 'parameter_code', 'poc',\n",
       "       'latitude', 'longitude', 'datum', 'parameter_name', 'date_local',\n",
       "       'time_local', 'date_gmt', 'time_gmt', 'sample_measurement',\n",
       "       'units_of_measure', 'mdl', 'qualifier', 'method_type', 'method_code',\n",
       "       'method_name', 'state_name', 'county_name', 'date_of_last_change'],\n",
       "      dtype='object')"
      ]
     },
     "execution_count": 20,
     "metadata": {},
     "output_type": "execute_result"
    }
   ],
   "source": [
    "df.drop(\n",
    "    labels=['uncertainty'], axis=1, inplace=True\n",
    ")\n",
    "df.columns\n"
   ]
  },
  {
   "cell_type": "code",
   "execution_count": 21,
   "id": "49d86eb2",
   "metadata": {},
   "outputs": [
    {
     "data": {
      "text/plain": [
       "Index(['state_code', 'county_code', 'site_num', 'parameter_code', 'poc',\n",
       "       'latitude', 'longitude', 'datum', 'parameter_name', 'date_local',\n",
       "       'time_local', 'date_gmt', 'time_gmt', 'sample_measurement',\n",
       "       'units_of_measure', 'mdl', 'qualifier', 'method_type', 'method_code',\n",
       "       'method_name', 'state_name', 'county_name', 'date_of_last_change'],\n",
       "      dtype='object')"
      ]
     },
     "execution_count": 21,
     "metadata": {},
     "output_type": "execute_result"
    }
   ],
   "source": [
    "df.dropna(subset=['sample_measurement'], inplace=True)\n",
    "df.columns\n"
   ]
  },
  {
   "cell_type": "code",
   "execution_count": 22,
   "id": "67f2090e",
   "metadata": {},
   "outputs": [
    {
     "data": {
      "text/plain": [
       "state_code             0\n",
       "county_code            0\n",
       "site_num               0\n",
       "parameter_code         0\n",
       "poc                    0\n",
       "latitude               0\n",
       "longitude              0\n",
       "datum                  0\n",
       "parameter_name         0\n",
       "date_local             0\n",
       "time_local             0\n",
       "date_gmt               0\n",
       "time_gmt               0\n",
       "sample_measurement     0\n",
       "units_of_measure       0\n",
       "mdl                    0\n",
       "qualifier              0\n",
       "method_type            0\n",
       "method_code            0\n",
       "method_name            0\n",
       "state_name             0\n",
       "county_name            0\n",
       "date_of_last_change    0\n",
       "dtype: int64"
      ]
     },
     "execution_count": 22,
     "metadata": {},
     "output_type": "execute_result"
    }
   ],
   "source": [
    "df.isnull().sum()\n"
   ]
  },
  {
   "cell_type": "code",
   "execution_count": 23,
   "id": "036e2a40",
   "metadata": {},
   "outputs": [
    {
     "name": "stdout",
     "output_type": "stream",
     "text": [
      "Total Cells: 9037917\n",
      "Duplicate Cells: 0\n",
      "Duplication %: 0.0\n"
     ]
    }
   ],
   "source": [
    "duplicate_cells = 0\n",
    "duplicate_bool = df.duplicated()\n",
    "\n",
    "for row in duplicate_bool:\n",
    "    duplicate_cells += 1 if row else 0\n",
    "\n",
    "duplicate_prc = (duplicate_cells / len(duplicate_bool)) * 100\n",
    "print(f\"Total Cells: {len(df)}\\nDuplicate Cells: {duplicate_cells}\\nDuplication %: {duplicate_prc}\")\n",
    "\n"
   ]
  },
  {
   "cell_type": "code",
   "execution_count": 32,
   "id": "79cf5ad7",
   "metadata": {},
   "outputs": [
    {
     "data": {
      "image/png": "[encoded data removed]",
      "text/plain": [
       "<Figure size 1200x1600 with 1 Axes>"
      ]
     },
     "metadata": {},
     "output_type": "display_data"
    }
   ],
   "source": [
    "data_values = np.array([duplicate_cells, len(df)-duplicate_cells])\n",
    "explode = [0.2, 0]\n",
    "graph_labels = [\"Duplicate Cells\", \"Unique Cells\"]\n",
    "title = \"Unique vs Duplicate cells\"\n",
    "\n",
    "plot_pie(data_values, graph_labels, explode=explode, title=title)\n"
   ]
  },
  {
   "cell_type": "markdown",
   "id": "6f3aa83e",
   "metadata": {},
   "source": [
    "<span style=\"font-family:Lucida Sans Unicode; color:#a10a0a; font-size: 25px\"> Remove Irrelevant data </span>"
   ]
  },
  {
   "cell_type": "code",
   "execution_count": 33,
   "id": "f8a29f89",
   "metadata": {},
   "outputs": [
    {
     "data": {
      "text/html": [
       "<div>\n",
       "<style scoped>\n",
       "    .dataframe tbody tr th:only-of-type {\n",
       "        vertical-align: middle;\n",
       "    }\n",
       "\n",
       "    .dataframe tbody tr th {\n",
       "        vertical-align: top;\n",
       "    }\n",
       "\n",
       "    .dataframe thead th {\n",
       "        text-align: right;\n",
       "    }\n",
       "</style>\n",
       "<table border=\"1\" class=\"dataframe\">\n",
       "  <thead>\n",
       "    <tr style=\"text-align: right;\">\n",
       "      <th></th>\n",
       "      <th>poc</th>\n",
       "      <th>latitude</th>\n",
       "      <th>longitude</th>\n",
       "      <th>sample_measurement</th>\n",
       "      <th>mdl</th>\n",
       "      <th>method_code</th>\n",
       "    </tr>\n",
       "  </thead>\n",
       "  <tbody>\n",
       "    <tr>\n",
       "      <th>count</th>\n",
       "      <td>9.037917e+06</td>\n",
       "      <td>9.037917e+06</td>\n",
       "      <td>9.037917e+06</td>\n",
       "      <td>9.037917e+06</td>\n",
       "      <td>9.037917e+06</td>\n",
       "      <td>9.037917e+06</td>\n",
       "    </tr>\n",
       "    <tr>\n",
       "      <th>mean</th>\n",
       "      <td>1.070348e+00</td>\n",
       "      <td>3.744119e+01</td>\n",
       "      <td>-9.531016e+01</td>\n",
       "      <td>3.013781e-02</td>\n",
       "      <td>1.348698e-01</td>\n",
       "      <td>7.106337e+01</td>\n",
       "    </tr>\n",
       "    <tr>\n",
       "      <th>std</th>\n",
       "      <td>3.279214e-01</td>\n",
       "      <td>5.052288e+00</td>\n",
       "      <td>1.631064e+01</td>\n",
       "      <td>1.528778e-02</td>\n",
       "      <td>8.086479e-01</td>\n",
       "      <td>4.328538e+01</td>\n",
       "    </tr>\n",
       "    <tr>\n",
       "      <th>min</th>\n",
       "      <td>1.000000e+00</td>\n",
       "      <td>1.817794e+01</td>\n",
       "      <td>-1.580886e+02</td>\n",
       "      <td>-5.000000e-03</td>\n",
       "      <td>6.000000e-04</td>\n",
       "      <td>1.900000e+01</td>\n",
       "    </tr>\n",
       "    <tr>\n",
       "      <th>25%</th>\n",
       "      <td>1.000000e+00</td>\n",
       "      <td>3.391814e+01</td>\n",
       "      <td>-1.098708e+02</td>\n",
       "      <td>1.900000e-02</td>\n",
       "      <td>5.000000e-03</td>\n",
       "      <td>4.700000e+01</td>\n",
       "    </tr>\n",
       "    <tr>\n",
       "      <th>50%</th>\n",
       "      <td>1.000000e+00</td>\n",
       "      <td>3.801333e+01</td>\n",
       "      <td>-9.200632e+01</td>\n",
       "      <td>3.000000e-02</td>\n",
       "      <td>5.000000e-03</td>\n",
       "      <td>8.700000e+01</td>\n",
       "    </tr>\n",
       "    <tr>\n",
       "      <th>75%</th>\n",
       "      <td>1.000000e+00</td>\n",
       "      <td>4.092458e+01</td>\n",
       "      <td>-8.193926e+01</td>\n",
       "      <td>4.100000e-02</td>\n",
       "      <td>5.000000e-03</td>\n",
       "      <td>8.700000e+01</td>\n",
       "    </tr>\n",
       "    <tr>\n",
       "      <th>max</th>\n",
       "      <td>6.000000e+00</td>\n",
       "      <td>6.484569e+01</td>\n",
       "      <td>-6.591548e+01</td>\n",
       "      <td>7.600000e-02</td>\n",
       "      <td>8.000000e+00</td>\n",
       "      <td>9.010000e+02</td>\n",
       "    </tr>\n",
       "  </tbody>\n",
       "</table>\n",
       "</div>"
      ],
      "text/plain": [
       "                poc      latitude     longitude  sample_measurement  \\\n",
       "count  9.037917e+06  9.037917e+06  9.037917e+06        9.037917e+06   \n",
       "mean   1.070348e+00  3.744119e+01 -9.531016e+01        3.013781e-02   \n",
       "std    3.279214e-01  5.052288e+00  1.631064e+01        1.528778e-02   \n",
       "min    1.000000e+00  1.817794e+01 -1.580886e+02       -5.000000e-03   \n",
       "25%    1.000000e+00  3.391814e+01 -1.098708e+02        1.900000e-02   \n",
       "50%    1.000000e+00  3.801333e+01 -9.200632e+01        3.000000e-02   \n",
       "75%    1.000000e+00  4.092458e+01 -8.193926e+01        4.100000e-02   \n",
       "max    6.000000e+00  6.484569e+01 -6.591548e+01        7.600000e-02   \n",
       "\n",
       "                mdl   method_code  \n",
       "count  9.037917e+06  9.037917e+06  \n",
       "mean   1.348698e-01  7.106337e+01  \n",
       "std    8.086479e-01  4.328538e+01  \n",
       "min    6.000000e-04  1.900000e+01  \n",
       "25%    5.000000e-03  4.700000e+01  \n",
       "50%    5.000000e-03  8.700000e+01  \n",
       "75%    5.000000e-03  8.700000e+01  \n",
       "max    8.000000e+00  9.010000e+02  "
      ]
     },
     "execution_count": 33,
     "metadata": {},
     "output_type": "execute_result"
    }
   ],
   "source": [
    "df.describe()\n"
   ]
  },
  {
   "cell_type": "code",
   "execution_count": 30,
   "id": "8ceaa923",
   "metadata": {},
   "outputs": [
    {
     "data": {
      "text/plain": [
       "Index(['state_code', 'county_code', 'site_num', 'parameter_code', 'poc',\n",
       "       'latitude', 'longitude', 'datum', 'parameter_name', 'date_local',\n",
       "       'time_local', 'date_gmt', 'time_gmt', 'sample_measurement',\n",
       "       'units_of_measure', 'mdl', 'qualifier', 'method_type', 'method_code',\n",
       "       'method_name', 'state_name', 'county_name', 'date_of_last_change'],\n",
       "      dtype='object')"
      ]
     },
     "execution_count": 30,
     "metadata": {},
     "output_type": "execute_result"
    }
   ],
   "source": [
    "df.columns"
   ]
  },
  {
   "cell_type": "code",
   "execution_count": 34,
   "id": "4757132f",
   "metadata": {},
   "outputs": [
    {
     "data": {
      "text/plain": [
       "array(['NAD83', 'WGS84'], dtype=object)"
      ]
     },
     "execution_count": 34,
     "metadata": {},
     "output_type": "execute_result"
    }
   ],
   "source": [
    "df['datum'].unique()\n"
   ]
  },
  {
   "cell_type": "code",
   "execution_count": 35,
   "id": "b0e4da30",
   "metadata": {},
   "outputs": [
    {
     "data": {
      "text/plain": [
       "array(['44201'], dtype=object)"
      ]
     },
     "execution_count": 35,
     "metadata": {},
     "output_type": "execute_result"
    }
   ],
   "source": [
    "df['parameter_code'].unique()\n"
   ]
  },
  {
   "cell_type": "code",
   "execution_count": 36,
   "id": "a3ecf49f",
   "metadata": {},
   "outputs": [
    {
     "data": {
      "text/plain": [
       "array(['Ozone'], dtype=object)"
      ]
     },
     "execution_count": 36,
     "metadata": {},
     "output_type": "execute_result"
    }
   ],
   "source": [
    "df['parameter_name'].unique()\n"
   ]
  },
  {
   "cell_type": "code",
   "execution_count": 37,
   "id": "855a1c3a",
   "metadata": {},
   "outputs": [
    {
     "data": {
      "image/png": "[encoded data removed]",
      "text/plain": [
       "<Figure size 1400x800 with 3 Axes>"
      ]
     },
     "metadata": {},
     "output_type": "display_data"
    }
   ],
   "source": [
    "bins = 15\n",
    "generate_subplots([df['datum'], df['parameter_code'], df['parameter_name']], 15)\n"
   ]
  },
  {
   "cell_type": "code",
   "execution_count": 38,
   "id": "2c05d72b",
   "metadata": {},
   "outputs": [
    {
     "data": {
      "text/plain": [
       "Index(['state_code', 'county_code', 'poc', 'date_local', 'time_local',\n",
       "       'date_gmt', 'time_gmt', 'sample_measurement', 'units_of_measure', 'mdl',\n",
       "       'qualifier', 'method_type', 'method_code', 'method_name', 'state_name',\n",
       "       'county_name', 'date_of_last_change'],\n",
       "      dtype='object')"
      ]
     },
     "execution_count": 38,
     "metadata": {},
     "output_type": "execute_result"
    }
   ],
   "source": [
    "df.drop(labels=['site_num', 'parameter_code', 'latitude', 'longitude', 'datum', 'parameter_code', 'parameter_name'], \n",
    "        axis=1, inplace=True)\n",
    "df.columns\n"
   ]
  },
  {
   "cell_type": "code",
   "execution_count": 39,
   "id": "49e55c2c",
   "metadata": {},
   "outputs": [
    {
     "name": "stdout",
     "output_type": "stream",
     "text": [
      "<class 'pandas.core.frame.DataFrame'>\n",
      "Index: 9037917 entries, 0 to 9060693\n",
      "Data columns (total 17 columns):\n",
      " #   Column               Dtype  \n",
      "---  ------               -----  \n",
      " 0   state_code           object \n",
      " 1   county_code          object \n",
      " 2   poc                  int32  \n",
      " 3   date_local           object \n",
      " 4   time_local           object \n",
      " 5   date_gmt             object \n",
      " 6   time_gmt             object \n",
      " 7   sample_measurement   float64\n",
      " 8   units_of_measure     object \n",
      " 9   mdl                  float64\n",
      " 10  qualifier            object \n",
      " 11  method_type          object \n",
      " 12  method_code          int32  \n",
      " 13  method_name          object \n",
      " 14  state_name           object \n",
      " 15  county_name          object \n",
      " 16  date_of_last_change  object \n",
      "dtypes: float64(2), int32(2), object(13)\n",
      "memory usage: 1.1+ GB\n"
     ]
    }
   ],
   "source": [
    "df.info()\n"
   ]
  },
  {
   "cell_type": "code",
   "execution_count": 40,
   "id": "97cc8bd3",
   "metadata": {},
   "outputs": [],
   "source": [
    "cu.save_df(df, \"parquet\", \"../../dataset/compressed/ozone_hourly_2014.parquet\")\n"
   ]
  },
  {
   "cell_type": "code",
   "execution_count": 4,
   "id": "62f0f93c",
   "metadata": {},
   "outputs": [
    {
     "name": "stdout",
     "output_type": "stream",
     "text": [
      "Original CSV = 2132.85 MB\n",
      "Raw Parquet = 122.54 MB \n",
      "Compressed Parquet = 10.11 MB\n",
      "\n",
      "Compression Parquet percentage is 91.75%\n",
      "Compression CSV to Parquet percentage is 99.53%\n"
     ]
    }
   ],
   "source": [
    "def compare_file_size(raw_parquet, compressed_parquet, raw_csv):\n",
    "    byte_to_mb = 1/(10**6)\n",
    "    raw_parquet_size = round(os.path.getsize(raw_parquet)*byte_to_mb, 2)\n",
    "    compressed_parquet_size = round(os.path.getsize(compressed_parquet)*byte_to_mb, 2)\n",
    "    raw_csv_size = round(os.path.getsize(raw_csv)*byte_to_mb, 2)   \n",
    "    \n",
    "    print(f\"Original CSV = {raw_csv_size} MB\\nRaw Parquet = {raw_parquet_size} MB \\nCompressed Parquet = {compressed_parquet_size} MB\\n\")\n",
    "    compression_perc = round(((raw_parquet_size-compressed_parquet_size)/raw_parquet_size)*100, 2)\n",
    "    print(f\"Compression Parquet percentage is {compression_perc}%\")\n",
    "    \n",
    "    compression_perc = round(((raw_csv_size-compressed_parquet_size)/raw_csv_size)*100, 2)\n",
    "    print(f\"Compression CSV to Parquet percentage is {compression_perc}%\")\n",
    "\n",
    "\n",
    "raw_csv_path = \"../../dataset/raw/ozone_hourly_2014.csv\"\n",
    "raw_parquet_path = \"../../dataset/raw/ozone_hourly_2014.parquet\"\n",
    "compressed_path = \"../../dataset/compressed/ozone_hourly_2014.parquet\"  \n",
    "compare_file_size(raw_parquet_path, compressed_path, raw_csv_path)\n"
   ]
  },
  {
   "cell_type": "code",
   "execution_count": null,
   "id": "a4e19600",
   "metadata": {},
   "outputs": [],
   "source": []
  }
 ],
 "metadata": {
  "kernelspec": {
   "display_name": "Python 3 (ipykernel)",
   "language": "python",
   "name": "python3"
  },
  "language_info": {
   "codemirror_mode": {
    "name": "ipython",
    "version": 3
   },
   "file_extension": ".py",
   "mimetype": "text/x-python",
   "name": "python",
   "nbconvert_exporter": "python",
   "pygments_lexer": "ipython3",
   "version": "3.10.9"
  }
 },
 "nbformat": 4,
 "nbformat_minor": 5
}
