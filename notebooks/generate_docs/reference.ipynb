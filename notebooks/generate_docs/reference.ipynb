{
 "cells": [
  {
   "cell_type": "code",
   "execution_count": 2,
   "id": "fa5a01fc",
   "metadata": {},
   "outputs": [],
   "source": [
    "doc = [\"## • Reference\",\n",
    "       \"| Index | Topic | Description |\",\n",
    "       \"| :-: | :-: | :-: | \"]\n",
    "\n",
    "ref_name = ['Dataset Source','Dataset Distribution', 'About Air Data Reports', 'Exploratory data analysis', \n",
    "            'Exploratory Data Analysis Book by John Tukey']\n",
    "\n",
    "ref_link = ['https://aqs.epa.gov/aqsweb/airdata/download_files.html',\n",
    "            'https://www.kaggle.com/datasets/asjad99/air-quality-monitoring-2014/data', \n",
    "            'https://www.epa.gov/outdoor-air-quality-data/about-air-data-reports',\n",
    "            'https://www.oreilly.com/library/view/practical-statistics-for/9781492072935/ch01.html',\n",
    "            'https://www.amazon.com/Exploratory-Data-Analysis-John-Tukey/dp/0201076160']\n",
    "\n",
    "desc = [\"Air pollution dataset from the U.S. Environmental Protection Agency (EPA).\",\n",
    "        \"Distributive Source for the Ozone Layer data.\",\n",
    "        \"The AirData Air Quality Index Summary Report displaying an annual summary of Air Quality Index (AQI) values for counties or core based statistical areas (CBSA).\",\n",
    "        \"Practical Statistics for Data Scientists, 2nd Edition by Peter Bruce, Andrew Bruce, Peter Gedeck.\",\n",
    "        \"Introductory book is that of informal study of the data.\"]\n",
    "\n",
    "for i, item in enumerate(ref_name):\n",
    "    doc.append(f\"| {i+1} | [{item}]({ref_link[i]}) | {desc[i]} |\")\n",
    "    \n",
    "doc_str = \"\\n\".join(doc)\n",
    "with open(\"../../references/reference.md\", \"w+\") as file:\n",
    "    file.write(doc_str)\n"
   ]
  },
  {
   "cell_type": "code",
   "execution_count": null,
   "id": "293414d9",
   "metadata": {},
   "outputs": [],
   "source": []
  }
 ],
 "metadata": {
  "kernelspec": {
   "display_name": "Python 3 (ipykernel)",
   "language": "python",
   "name": "python3"
  },
  "language_info": {
   "codemirror_mode": {
    "name": "ipython",
    "version": 3
   },
   "file_extension": ".py",
   "mimetype": "text/x-python",
   "name": "python",
   "nbconvert_exporter": "python",
   "pygments_lexer": "ipython3",
   "version": "3.10.9"
  }
 },
 "nbformat": 4,
 "nbformat_minor": 5
}
