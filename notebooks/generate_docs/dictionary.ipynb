{
 "cells": [
  {
   "cell_type": "code",
   "execution_count": 2,
   "id": "503fb50c",
   "metadata": {},
   "outputs": [
    {
     "name": "stdout",
     "output_type": "stream",
     "text": [
      "Exception: 'state_code'\n",
      "Exception: 'county_code'\n",
      "Exception: 'site_num'\n",
      "Exception: 'parameter_code'\n",
      "Exception: 'datum'\n",
      "Exception: 'parameter_name'\n",
      "Exception: 'date_local'\n",
      "Exception: 'time_local'\n",
      "Exception: 'date_gmt'\n",
      "Exception: 'time_gmt'\n",
      "Exception: 'units_of_measure'\n",
      "Exception: 'method_type'\n",
      "Exception: 'method_name'\n",
      "Exception: 'state_name'\n",
      "Exception: 'county_name'\n",
      "Exception: 'date_of_last_change'\n"
     ]
    }
   ],
   "source": [
    "import python_utils.common_utils as cu\n",
    "\n",
    "df = cu.load_df(\"parquet\", \"pd\", \"../../dataset/processed/ozone_hourly_2014.parquet\")\n",
    "columns = [column for column in df.columns]\n",
    "\n",
    "doc = [\"## • Data Dictionary\",\n",
    "       \"| features | dtype | mean value | standard deviation | min | max | description |\",\n",
    "       \"| :-: | :-: | :-: | :-: | :-: | :-: | :-: |\"]\n",
    "\n",
    "for column in columns:    \n",
    "    try:\n",
    "        descriptions = df.describe().loc[['mean', 'std', 'min', 'max']]\n",
    "        doc.append(f'| {column} | {df[column].dtype} | {descriptions.at[\"mean\", column]:.1f} | {descriptions.at[\"std\", column]:.1f} | {descriptions.at[\"min\", column]:.1f} | {descriptions.at[\"max\", column]:.1f} |  |')\n",
    "    \n",
    "    except Exception as e:\n",
    "        print(f\"Exception: {e}\")\n",
    "        doc.append(f\"| {column} | {df[column].dtype} | n/a | n/a | n/a | n/a |  |\")\n",
    "\n",
    "        \n",
    "doc_str = \"\\n\".join(doc)\n",
    "with open(\"../../docs/data_dictionary.md\", \"w+\") as file:\n",
    "    file.write(doc_str)\n"
   ]
  },
  {
   "cell_type": "code",
   "execution_count": null,
   "id": "b38ce9af",
   "metadata": {},
   "outputs": [],
   "source": []
  }
 ],
 "metadata": {
  "kernelspec": {
   "display_name": "Python 3 (ipykernel)",
   "language": "python",
   "name": "python3"
  },
  "language_info": {
   "codemirror_mode": {
    "name": "ipython",
    "version": 3
   },
   "file_extension": ".py",
   "mimetype": "text/x-python",
   "name": "python",
   "nbconvert_exporter": "python",
   "pygments_lexer": "ipython3",
   "version": "3.10.9"
  }
 },
 "nbformat": 4,
 "nbformat_minor": 5
}
